{
 "cells": [
  {
   "cell_type": "code",
   "execution_count": 1,
   "id": "1e62aa36",
   "metadata": {},
   "outputs": [],
   "source": [
    "import numpy as np"
   ]
  },
  {
   "cell_type": "code",
   "execution_count": 2,
   "id": "3cad710d",
   "metadata": {},
   "outputs": [],
   "source": [
    "np.set_printoptions(suppress=True,linewidth=100,precision=2)"
   ]
  },
  {
   "cell_type": "code",
   "execution_count": 3,
   "id": "93564f77",
   "metadata": {},
   "outputs": [
    {
     "data": {
      "text/plain": [
       "array([[48010226.  ,         nan,    35000.  , ...,         nan,         nan,     9452.96],\n",
       "       [57693261.  ,         nan,    30000.  , ...,         nan,         nan,     4679.7 ],\n",
       "       [59432726.  ,         nan,    15000.  , ...,         nan,         nan,     1969.83],\n",
       "       ...,\n",
       "       [50415990.  ,         nan,    10000.  , ...,         nan,         nan,     2185.64],\n",
       "       [46154151.  ,         nan,         nan, ...,         nan,         nan,     3199.4 ],\n",
       "       [66055249.  ,         nan,    10000.  , ...,         nan,         nan,      301.9 ]])"
      ]
     },
     "execution_count": 3,
     "metadata": {},
     "output_type": "execute_result"
    }
   ],
   "source": [
    "raw_data=np.genfromtxt(\"C:\\\\Users\\\\R S SUNEEL KRISHNA\\Downloads\\\\loan-data.csv\",delimiter=\";\",skip_header=1,autostrip=True)\n",
    "raw_data"
   ]
  },
  {
   "cell_type": "code",
   "execution_count": 4,
   "id": "1401b712",
   "metadata": {},
   "outputs": [
    {
     "data": {
      "text/plain": [
       "88005"
      ]
     },
     "execution_count": 4,
     "metadata": {},
     "output_type": "execute_result"
    }
   ],
   "source": [
    "np.isnan(raw_data).sum()"
   ]
  },
  {
   "cell_type": "code",
   "execution_count": 5,
   "id": "1673be50",
   "metadata": {},
   "outputs": [
    {
     "name": "stderr",
     "output_type": "stream",
     "text": [
      "C:\\Users\\R S SUNEEL KRISHNA\\AppData\\Local\\Temp\\ipykernel_29120\\2810383542.py:2: RuntimeWarning: Mean of empty slice\n",
      "  temp_mean=np.nanmean(raw_data,axis=0)\n"
     ]
    }
   ],
   "source": [
    "temp=np.nanmax(raw_data).round(2)+1\n",
    "temp_mean=np.nanmean(raw_data,axis=0)"
   ]
  },
  {
   "cell_type": "code",
   "execution_count": 6,
   "id": "91da2eaa",
   "metadata": {},
   "outputs": [
    {
     "name": "stderr",
     "output_type": "stream",
     "text": [
      "C:\\Users\\R S SUNEEL KRISHNA\\AppData\\Local\\Temp\\ipykernel_29120\\2834679002.py:1: RuntimeWarning: All-NaN slice encountered\n",
      "  temp_stats=np.array([np.nanmin(raw_data,axis=0),\n",
      "C:\\Users\\R S SUNEEL KRISHNA\\AppData\\Local\\Temp\\ipykernel_29120\\2834679002.py:3: RuntimeWarning: All-NaN slice encountered\n",
      "  np.nanmax(raw_data,axis=0)])\n"
     ]
    },
    {
     "data": {
      "text/plain": [
       "array([[  373332.  ,         nan,     1000.  ,         nan,     1000.  ,         nan,        6.  ,\n",
       "              31.42,         nan,         nan,         nan,         nan,         nan,        0.  ],\n",
       "       [54015809.19,         nan,    15273.46,         nan,    15311.04,         nan,       16.62,\n",
       "             440.92,         nan,         nan,         nan,         nan,         nan,     3143.85],\n",
       "       [68616519.  ,         nan,    35000.  ,         nan,    35000.  ,         nan,       28.99,\n",
       "            1372.97,         nan,         nan,         nan,         nan,         nan,    41913.62]])"
      ]
     },
     "execution_count": 6,
     "metadata": {},
     "output_type": "execute_result"
    }
   ],
   "source": [
    "temp_stats=np.array([np.nanmin(raw_data,axis=0),\n",
    "                              temp_mean,\n",
    "                              np.nanmax(raw_data,axis=0)])\n",
    "temp_stats"
   ]
  },
  {
   "cell_type": "markdown",
   "id": "6cb021bf",
   "metadata": {},
   "source": [
    "# splitting data"
   ]
  },
  {
   "cell_type": "code",
   "execution_count": 7,
   "id": "46260a5a",
   "metadata": {},
   "outputs": [
    {
     "data": {
      "text/plain": [
       "array([ 1,  3,  5,  8,  9, 10, 11, 12], dtype=int64)"
      ]
     },
     "execution_count": 7,
     "metadata": {},
     "output_type": "execute_result"
    }
   ],
   "source": [
    "columns_strings=np.argwhere(np.isnan(temp_mean)).squeeze()\n",
    "columns_strings"
   ]
  },
  {
   "cell_type": "code",
   "execution_count": 8,
   "id": "7df0c8cb",
   "metadata": {},
   "outputs": [
    {
     "data": {
      "text/plain": [
       "array([ 0,  2,  4,  6,  7, 13], dtype=int64)"
      ]
     },
     "execution_count": 8,
     "metadata": {},
     "output_type": "execute_result"
    }
   ],
   "source": [
    "columns_numeric=np.argwhere(np.isnan(temp_mean)==False).squeeze()\n",
    "columns_numeric"
   ]
  },
  {
   "cell_type": "markdown",
   "id": "6543ad56",
   "metadata": {},
   "source": [
    "# Re-importing dataset"
   ]
  },
  {
   "cell_type": "code",
   "execution_count": 9,
   "id": "be83d7b2",
   "metadata": {},
   "outputs": [
    {
     "data": {
      "text/plain": [
       "array([['May-15', 'Current', '36 months', ..., 'Verified',\n",
       "        'https://www.lendingclub.com/browse/loanDetail.action?loan_id=48010226', 'CA'],\n",
       "       ['', 'Current', '36 months', ..., 'Source Verified',\n",
       "        'https://www.lendingclub.com/browse/loanDetail.action?loan_id=57693261', 'NY'],\n",
       "       ['Sep-15', 'Current', '36 months', ..., 'Verified',\n",
       "        'https://www.lendingclub.com/browse/loanDetail.action?loan_id=59432726', 'PA'],\n",
       "       ...,\n",
       "       ['Jun-15', 'Current', '36 months', ..., 'Source Verified',\n",
       "        'https://www.lendingclub.com/browse/loanDetail.action?loan_id=50415990', 'CA'],\n",
       "       ['Apr-15', 'Current', '36 months', ..., 'Source Verified',\n",
       "        'https://www.lendingclub.com/browse/loanDetail.action?loan_id=46154151', 'OH'],\n",
       "       ['Dec-15', 'Current', '36 months', ..., '',\n",
       "        'https://www.lendingclub.com/browse/loanDetail.action?loan_id=66055249', 'IL']],\n",
       "      dtype='<U69')"
      ]
     },
     "execution_count": 9,
     "metadata": {},
     "output_type": "execute_result"
    }
   ],
   "source": [
    "raw_data_strings=np.genfromtxt(\"C:\\\\Users\\\\R S SUNEEL KRISHNA\\Downloads\\\\loan-data.csv\",\n",
    "                               delimiter=\";\",\n",
    "                               skip_header=1,\n",
    "                               autostrip=True,\n",
    "                              usecols=columns_strings,\n",
    "                              dtype=str)\n",
    "raw_data_strings"
   ]
  },
  {
   "cell_type": "code",
   "execution_count": 10,
   "id": "ecfca947",
   "metadata": {},
   "outputs": [
    {
     "data": {
      "text/plain": [
       "array([[48010226.  ,    35000.  ,    35000.  ,       13.33,     1184.86,     9452.96],\n",
       "       [57693261.  ,    30000.  ,    30000.  , 68616520.  ,      938.57,     4679.7 ],\n",
       "       [59432726.  ,    15000.  ,    15000.  , 68616520.  ,      494.86,     1969.83],\n",
       "       ...,\n",
       "       [50415990.  ,    10000.  ,    10000.  , 68616520.  , 68616520.  ,     2185.64],\n",
       "       [46154151.  , 68616520.  ,    10000.  ,       16.55,      354.3 ,     3199.4 ],\n",
       "       [66055249.  ,    10000.  ,    10000.  , 68616520.  ,      309.97,      301.9 ]])"
      ]
     },
     "execution_count": 10,
     "metadata": {},
     "output_type": "execute_result"
    }
   ],
   "source": [
    "raw_data_numeric=np.genfromtxt(\"C:\\\\Users\\\\R S SUNEEL KRISHNA\\Downloads\\\\loan-data.csv\",\n",
    "                               delimiter=\";\",\n",
    "                               skip_header=1,\n",
    "                               autostrip=True,\n",
    "                              usecols=columns_numeric,\n",
    "                               filling_values=temp\n",
    "                              )\n",
    "raw_data_numeric"
   ]
  },
  {
   "cell_type": "code",
   "execution_count": 11,
   "id": "4550b319",
   "metadata": {},
   "outputs": [
    {
     "data": {
      "text/plain": [
       "array(['id', 'issue_d', 'loan_amnt', 'loan_status', 'funded_amnt', 'term', 'int_rate',\n",
       "       'installment', 'grade', 'sub_grade', 'verification_status', 'url', 'addr_state',\n",
       "       'total_pymnt'], dtype='<U19')"
      ]
     },
     "execution_count": 11,
     "metadata": {},
     "output_type": "execute_result"
    }
   ],
   "source": [
    "raw_data_header=np.genfromtxt(\"C:\\\\Users\\\\R S SUNEEL KRISHNA\\Downloads\\\\loan-data.csv\",\n",
    "                               delimiter=\";\",\n",
    "                               skip_footer=raw_data.shape[0],#removes all data except 1st row\n",
    "                               autostrip=True,\n",
    "                               dtype=str\n",
    "                              )\n",
    "raw_data_header"
   ]
  },
  {
   "cell_type": "code",
   "execution_count": 12,
   "id": "439a514c",
   "metadata": {},
   "outputs": [],
   "source": [
    "header_text,header_num=raw_data_header[columns_strings],raw_data_header[columns_numeric]"
   ]
  },
  {
   "cell_type": "code",
   "execution_count": 13,
   "id": "62b9c720",
   "metadata": {},
   "outputs": [
    {
     "data": {
      "text/plain": [
       "array(['issue_d', 'loan_status', 'term', 'grade', 'sub_grade', 'verification_status', 'url',\n",
       "       'addr_state'], dtype='<U19')"
      ]
     },
     "execution_count": 13,
     "metadata": {},
     "output_type": "execute_result"
    }
   ],
   "source": [
    "header_text"
   ]
  },
  {
   "cell_type": "code",
   "execution_count": 14,
   "id": "df2a6f19",
   "metadata": {},
   "outputs": [
    {
     "data": {
      "text/plain": [
       "array(['id', 'loan_amnt', 'funded_amnt', 'int_rate', 'installment', 'total_pymnt'], dtype='<U19')"
      ]
     },
     "execution_count": 14,
     "metadata": {},
     "output_type": "execute_result"
    }
   ],
   "source": [
    "header_num"
   ]
  },
  {
   "cell_type": "markdown",
   "id": "e1a9e90d",
   "metadata": {},
   "source": [
    "# creating checkpoints"
   ]
  },
  {
   "cell_type": "code",
   "execution_count": 15,
   "id": "f8d2503d",
   "metadata": {},
   "outputs": [],
   "source": [
    "def checkpoint(file_name,checkpoint_header,checkpoint_data):\n",
    "    np.savez(file_name,header=checkpoint_header,data=checkpoint_data)\n",
    "    checkpoint_variable=np.load(file_name+\".npz\")\n",
    "    return(checkpoint_variable)"
   ]
  },
  {
   "cell_type": "code",
   "execution_count": 16,
   "id": "b246d9e5",
   "metadata": {},
   "outputs": [],
   "source": [
    "checkpoint_test=checkpoint(\"checkpoint-test\",header_text,raw_data_strings)"
   ]
  },
  {
   "cell_type": "markdown",
   "id": "fb40a5d3",
   "metadata": {},
   "source": [
    "# manupulating test data"
   ]
  },
  {
   "cell_type": "code",
   "execution_count": 17,
   "id": "aae90f94",
   "metadata": {},
   "outputs": [
    {
     "data": {
      "text/plain": [
       "array(['issue_d', 'loan_status', 'term', 'grade', 'sub_grade', 'verification_status', 'url',\n",
       "       'addr_state'], dtype='<U19')"
      ]
     },
     "execution_count": 17,
     "metadata": {},
     "output_type": "execute_result"
    }
   ],
   "source": [
    "header_text"
   ]
  },
  {
   "cell_type": "code",
   "execution_count": 18,
   "id": "646f9d1f",
   "metadata": {},
   "outputs": [],
   "source": [
    "header_text[0]=\"issue_date\""
   ]
  },
  {
   "cell_type": "code",
   "execution_count": 19,
   "id": "d950a74f",
   "metadata": {},
   "outputs": [
    {
     "data": {
      "text/plain": [
       "array([['May-15', 'Current', '36 months', ..., 'Verified',\n",
       "        'https://www.lendingclub.com/browse/loanDetail.action?loan_id=48010226', 'CA'],\n",
       "       ['', 'Current', '36 months', ..., 'Source Verified',\n",
       "        'https://www.lendingclub.com/browse/loanDetail.action?loan_id=57693261', 'NY'],\n",
       "       ['Sep-15', 'Current', '36 months', ..., 'Verified',\n",
       "        'https://www.lendingclub.com/browse/loanDetail.action?loan_id=59432726', 'PA'],\n",
       "       ...,\n",
       "       ['Jun-15', 'Current', '36 months', ..., 'Source Verified',\n",
       "        'https://www.lendingclub.com/browse/loanDetail.action?loan_id=50415990', 'CA'],\n",
       "       ['Apr-15', 'Current', '36 months', ..., 'Source Verified',\n",
       "        'https://www.lendingclub.com/browse/loanDetail.action?loan_id=46154151', 'OH'],\n",
       "       ['Dec-15', 'Current', '36 months', ..., '',\n",
       "        'https://www.lendingclub.com/browse/loanDetail.action?loan_id=66055249', 'IL']],\n",
       "      dtype='<U69')"
      ]
     },
     "execution_count": 19,
     "metadata": {},
     "output_type": "execute_result"
    }
   ],
   "source": [
    "raw_data_strings\n"
   ]
  },
  {
   "cell_type": "markdown",
   "id": "7606d22e",
   "metadata": {},
   "source": [
    "# issue date"
   ]
  },
  {
   "cell_type": "code",
   "execution_count": 20,
   "id": "530008af",
   "metadata": {},
   "outputs": [
    {
     "data": {
      "text/plain": [
       "array(['May-15', '', 'Sep-15', ..., 'Jun-15', 'Apr-15', 'Dec-15'], dtype='<U69')"
      ]
     },
     "execution_count": 20,
     "metadata": {},
     "output_type": "execute_result"
    }
   ],
   "source": [
    "raw_data_strings[:,0]"
   ]
  },
  {
   "cell_type": "code",
   "execution_count": 21,
   "id": "2df9639f",
   "metadata": {},
   "outputs": [
    {
     "data": {
      "text/plain": [
       "array(['', 'Apr-15', 'Aug-15', 'Dec-15', 'Feb-15', 'Jan-15', 'Jul-15', 'Jun-15', 'Mar-15',\n",
       "       'May-15', 'Nov-15', 'Oct-15', 'Sep-15'], dtype='<U69')"
      ]
     },
     "execution_count": 21,
     "metadata": {},
     "output_type": "execute_result"
    }
   ],
   "source": [
    "np.unique(raw_data_strings[:,0])"
   ]
  },
  {
   "cell_type": "code",
   "execution_count": 22,
   "id": "09fcdd64",
   "metadata": {},
   "outputs": [
    {
     "data": {
      "text/plain": [
       "array(['May', '', 'Sep', ..., 'Jun', 'Apr', 'Dec'], dtype='<U69')"
      ]
     },
     "execution_count": 22,
     "metadata": {},
     "output_type": "execute_result"
    }
   ],
   "source": [
    "raw_data_strings[:,0]=np.chararray.strip(raw_data_strings[:,0],\"-15\")\n",
    "raw_data_strings[:,0]"
   ]
  },
  {
   "cell_type": "code",
   "execution_count": 23,
   "id": "2317f195",
   "metadata": {},
   "outputs": [],
   "source": [
    "months=np.array(['','Jan','Feb','Mar','Apr','May','Jun','Jul','Aug','Sep','Oct','Nov','Dec'])"
   ]
  },
  {
   "cell_type": "code",
   "execution_count": 24,
   "id": "9fa32340",
   "metadata": {},
   "outputs": [],
   "source": [
    "for i in range (13):\n",
    "    raw_data_strings[:,0]=np.where(raw_data_strings[:,0]==months[i],\n",
    "                                  i,\n",
    "                                  raw_data_strings[:,0])"
   ]
  },
  {
   "cell_type": "code",
   "execution_count": 25,
   "id": "2297fece",
   "metadata": {},
   "outputs": [
    {
     "data": {
      "text/plain": [
       "array(['0', '1', '10', '11', '12', '2', '3', '4', '5', '6', '7', '8', '9'], dtype='<U69')"
      ]
     },
     "execution_count": 25,
     "metadata": {},
     "output_type": "execute_result"
    }
   ],
   "source": [
    "np.unique(raw_data_strings[:,0])"
   ]
  },
  {
   "cell_type": "markdown",
   "id": "ea3db4f0",
   "metadata": {},
   "source": [
    "# loan status"
   ]
  },
  {
   "cell_type": "code",
   "execution_count": 26,
   "id": "19f1a2a6",
   "metadata": {},
   "outputs": [
    {
     "data": {
      "text/plain": [
       "array(['Current', 'Current', 'Current', ..., 'Current', 'Current', 'Current'], dtype='<U69')"
      ]
     },
     "execution_count": 26,
     "metadata": {},
     "output_type": "execute_result"
    }
   ],
   "source": [
    "raw_data_strings[:,1]"
   ]
  },
  {
   "cell_type": "code",
   "execution_count": 27,
   "id": "959e9a86",
   "metadata": {},
   "outputs": [
    {
     "data": {
      "text/plain": [
       "array(['', 'Charged Off', 'Current', 'Default', 'Fully Paid', 'In Grace Period', 'Issued',\n",
       "       'Late (16-30 days)', 'Late (31-120 days)'], dtype='<U69')"
      ]
     },
     "execution_count": 27,
     "metadata": {},
     "output_type": "execute_result"
    }
   ],
   "source": [
    "np.unique(raw_data_strings[:,1])"
   ]
  },
  {
   "cell_type": "code",
   "execution_count": 28,
   "id": "86520a60",
   "metadata": {},
   "outputs": [],
   "source": [
    "status_bad=np.array(['','Charged Off','Default','Late (31-120 days)'])"
   ]
  },
  {
   "cell_type": "code",
   "execution_count": 29,
   "id": "97ec1cb8",
   "metadata": {},
   "outputs": [
    {
     "data": {
      "text/plain": [
       "array(['1', '1', '1', ..., '1', '1', '1'], dtype='<U69')"
      ]
     },
     "execution_count": 29,
     "metadata": {},
     "output_type": "execute_result"
    }
   ],
   "source": [
    "raw_data_strings[:,1]=np.where(np.isin(raw_data_strings[:,1],status_bad),0,1)\n",
    "raw_data_strings[:,1]"
   ]
  },
  {
   "cell_type": "code",
   "execution_count": 30,
   "id": "aae166bb",
   "metadata": {},
   "outputs": [
    {
     "data": {
      "text/plain": [
       "array(['0', '1'], dtype='<U69')"
      ]
     },
     "execution_count": 30,
     "metadata": {},
     "output_type": "execute_result"
    }
   ],
   "source": [
    "np.unique(raw_data_strings[:,1])"
   ]
  },
  {
   "cell_type": "markdown",
   "id": "1b426b30",
   "metadata": {},
   "source": [
    "# term"
   ]
  },
  {
   "cell_type": "code",
   "execution_count": 31,
   "id": "0eba8cc9",
   "metadata": {},
   "outputs": [
    {
     "data": {
      "text/plain": [
       "array(['36 months', '36 months', '36 months', ..., '36 months', '36 months', '36 months'],\n",
       "      dtype='<U69')"
      ]
     },
     "execution_count": 31,
     "metadata": {},
     "output_type": "execute_result"
    }
   ],
   "source": [
    "raw_data_strings[:,2]"
   ]
  },
  {
   "cell_type": "code",
   "execution_count": 32,
   "id": "7bb57c1a",
   "metadata": {},
   "outputs": [
    {
     "data": {
      "text/plain": [
       "array(['', '36 months', '60 months'], dtype='<U69')"
      ]
     },
     "execution_count": 32,
     "metadata": {},
     "output_type": "execute_result"
    }
   ],
   "source": [
    "np.unique(raw_data_strings[:,2])"
   ]
  },
  {
   "cell_type": "code",
   "execution_count": 33,
   "id": "28942ed4",
   "metadata": {},
   "outputs": [
    {
     "data": {
      "text/plain": [
       "array(['36', '36', '36', ..., '36', '36', '36'], dtype='<U69')"
      ]
     },
     "execution_count": 33,
     "metadata": {},
     "output_type": "execute_result"
    }
   ],
   "source": [
    "raw_data_strings[:,2]=np.chararray.strip(raw_data_strings[:,2],\" months\")\n",
    "raw_data_strings[:,2]"
   ]
  },
  {
   "cell_type": "code",
   "execution_count": 34,
   "id": "bf63e054",
   "metadata": {},
   "outputs": [],
   "source": [
    "header_text[2]=\"term months\""
   ]
  },
  {
   "cell_type": "code",
   "execution_count": 35,
   "id": "fdefb7d3",
   "metadata": {},
   "outputs": [
    {
     "data": {
      "text/plain": [
       "array(['36', '36', '36', ..., '36', '36', '36'], dtype='<U69')"
      ]
     },
     "execution_count": 35,
     "metadata": {},
     "output_type": "execute_result"
    }
   ],
   "source": [
    "raw_data_strings[:,2]=np.where(raw_data_strings[:,2]=='',\n",
    "                              60,\n",
    "                              raw_data_strings[:,2])\n",
    "raw_data_strings[:,2]"
   ]
  },
  {
   "cell_type": "markdown",
   "id": "242e1981",
   "metadata": {},
   "source": [
    "# grade and subgrade"
   ]
  },
  {
   "cell_type": "code",
   "execution_count": 36,
   "id": "b9a07dde",
   "metadata": {},
   "outputs": [
    {
     "data": {
      "text/plain": [
       "array(['C', 'A', 'B', ..., 'A', 'D', 'A'], dtype='<U69')"
      ]
     },
     "execution_count": 36,
     "metadata": {},
     "output_type": "execute_result"
    }
   ],
   "source": [
    "raw_data_strings[:,3]"
   ]
  },
  {
   "cell_type": "code",
   "execution_count": 37,
   "id": "27debc57",
   "metadata": {},
   "outputs": [
    {
     "data": {
      "text/plain": [
       "array(['', 'A', 'B', 'C', 'D', 'E', 'F', 'G'], dtype='<U69')"
      ]
     },
     "execution_count": 37,
     "metadata": {},
     "output_type": "execute_result"
    }
   ],
   "source": [
    "np.unique(raw_data_strings[:,3])"
   ]
  },
  {
   "cell_type": "code",
   "execution_count": 38,
   "id": "77e95a73",
   "metadata": {},
   "outputs": [
    {
     "data": {
      "text/plain": [
       "array(['C3', 'A5', 'B5', ..., 'A5', 'D2', 'A4'], dtype='<U69')"
      ]
     },
     "execution_count": 38,
     "metadata": {},
     "output_type": "execute_result"
    }
   ],
   "source": [
    "raw_data_strings[:,4]"
   ]
  },
  {
   "cell_type": "code",
   "execution_count": 39,
   "id": "dbea59d8",
   "metadata": {},
   "outputs": [
    {
     "data": {
      "text/plain": [
       "array(['', 'A1', 'A2', 'A3', 'A4', 'A5', 'B1', 'B2', 'B3', 'B4', 'B5', 'C1', 'C2', 'C3', 'C4',\n",
       "       'C5', 'D1', 'D2', 'D3', 'D4', 'D5', 'E1', 'E2', 'E3', 'E4', 'E5', 'F1', 'F2', 'F3', 'F4',\n",
       "       'F5', 'G1', 'G2', 'G3', 'G4', 'G5'], dtype='<U69')"
      ]
     },
     "execution_count": 39,
     "metadata": {},
     "output_type": "execute_result"
    }
   ],
   "source": [
    "np.unique(raw_data_strings[:,4])"
   ]
  },
  {
   "cell_type": "code",
   "execution_count": 40,
   "id": "0624bfb9",
   "metadata": {},
   "outputs": [],
   "source": [
    "for i in np.unique(raw_data_strings[:,3])[1:]:\n",
    "    raw_data_strings[:,4]=np.where((raw_data_strings[:,4]=='')&(raw_data_strings[:,4]==i),\n",
    "    i+'5',\n",
    "    raw_data_strings[:,4])"
   ]
  },
  {
   "cell_type": "code",
   "execution_count": 41,
   "id": "fbef794b",
   "metadata": {},
   "outputs": [
    {
     "data": {
      "text/plain": [
       "array(['', 'A1', 'A2', 'A3', 'A4', 'A5', 'B1', 'B2', 'B3', 'B4', 'B5', 'C1', 'C2', 'C3', 'C4',\n",
       "       'C5', 'D1', 'D2', 'D3', 'D4', 'D5', 'E1', 'E2', 'E3', 'E4', 'E5', 'F1', 'F2', 'F3', 'F4',\n",
       "       'F5', 'G1', 'G2', 'G3', 'G4', 'G5'], dtype='<U69')"
      ]
     },
     "execution_count": 41,
     "metadata": {},
     "output_type": "execute_result"
    }
   ],
   "source": [
    "np.unique(raw_data_strings[:,4])"
   ]
  },
  {
   "cell_type": "code",
   "execution_count": 42,
   "id": "7c6cb56d",
   "metadata": {},
   "outputs": [],
   "source": [
    "for i in np.unique(raw_data_strings[:,3])[1:]:\n",
    "    raw_data_strings[:,4]=np.where((raw_data_strings[:,4]==''),\n",
    "    'H1',\n",
    "    raw_data_strings[:,4])"
   ]
  },
  {
   "cell_type": "code",
   "execution_count": 43,
   "id": "da18b49e",
   "metadata": {},
   "outputs": [
    {
     "data": {
      "text/plain": [
       "array(['A1', 'A2', 'A3', 'A4', 'A5', 'B1', 'B2', 'B3', 'B4', 'B5', 'C1', 'C2', 'C3', 'C4', 'C5',\n",
       "       'D1', 'D2', 'D3', 'D4', 'D5', 'E1', 'E2', 'E3', 'E4', 'E5', 'F1', 'F2', 'F3', 'F4', 'F5',\n",
       "       'G1', 'G2', 'G3', 'G4', 'G5', 'H1'], dtype='<U69')"
      ]
     },
     "execution_count": 43,
     "metadata": {},
     "output_type": "execute_result"
    }
   ],
   "source": [
    "np.unique(raw_data_strings[:,4])"
   ]
  },
  {
   "cell_type": "code",
   "execution_count": 44,
   "id": "725a39b9",
   "metadata": {},
   "outputs": [
    {
     "data": {
      "text/plain": [
       "array([['5', '1', '36', ..., 'Verified',\n",
       "        'https://www.lendingclub.com/browse/loanDetail.action?loan_id=48010226', 'CA'],\n",
       "       ['0', '1', '36', ..., 'Source Verified',\n",
       "        'https://www.lendingclub.com/browse/loanDetail.action?loan_id=57693261', 'NY'],\n",
       "       ['9', '1', '36', ..., 'Verified',\n",
       "        'https://www.lendingclub.com/browse/loanDetail.action?loan_id=59432726', 'PA'],\n",
       "       ...,\n",
       "       ['6', '1', '36', ..., 'Source Verified',\n",
       "        'https://www.lendingclub.com/browse/loanDetail.action?loan_id=50415990', 'CA'],\n",
       "       ['4', '1', '36', ..., 'Source Verified',\n",
       "        'https://www.lendingclub.com/browse/loanDetail.action?loan_id=46154151', 'OH'],\n",
       "       ['12', '1', '36', ..., '',\n",
       "        'https://www.lendingclub.com/browse/loanDetail.action?loan_id=66055249', 'IL']],\n",
       "      dtype='<U69')"
      ]
     },
     "execution_count": 44,
     "metadata": {},
     "output_type": "execute_result"
    }
   ],
   "source": [
    "raw_data_strings=np.delete(raw_data_strings,3,axis=1)\n",
    "raw_data_strings"
   ]
  },
  {
   "cell_type": "code",
   "execution_count": 45,
   "id": "251ddaff",
   "metadata": {},
   "outputs": [
    {
     "data": {
      "text/plain": [
       "array(['issue_date', 'loan_status', 'term months', 'grade', 'sub_grade', 'verification_status',\n",
       "       'url', 'addr_state'], dtype='<U19')"
      ]
     },
     "execution_count": 45,
     "metadata": {},
     "output_type": "execute_result"
    }
   ],
   "source": [
    "header_text"
   ]
  },
  {
   "cell_type": "code",
   "execution_count": 46,
   "id": "d1bab092",
   "metadata": {},
   "outputs": [
    {
     "data": {
      "text/plain": [
       "array(['C3', 'A5', 'B5', ..., 'A5', 'D2', 'A4'], dtype='<U69')"
      ]
     },
     "execution_count": 46,
     "metadata": {},
     "output_type": "execute_result"
    }
   ],
   "source": [
    "raw_data_strings[:,3]"
   ]
  },
  {
   "cell_type": "code",
   "execution_count": 47,
   "id": "25b93777",
   "metadata": {},
   "outputs": [],
   "source": [
    "header_text=np.delete(header_text,3)"
   ]
  },
  {
   "cell_type": "code",
   "execution_count": 48,
   "id": "bea35c06",
   "metadata": {},
   "outputs": [
    {
     "data": {
      "text/plain": [
       "array(['issue_date', 'loan_status', 'term months', 'sub_grade', 'verification_status', 'url',\n",
       "       'addr_state'], dtype='<U19')"
      ]
     },
     "execution_count": 48,
     "metadata": {},
     "output_type": "execute_result"
    }
   ],
   "source": [
    "header_text"
   ]
  },
  {
   "cell_type": "code",
   "execution_count": 49,
   "id": "0d94632b",
   "metadata": {},
   "outputs": [],
   "source": [
    "keys=list(np.unique(raw_data_strings[:,3]))\n",
    "values=list(range(1,np.unique(raw_data_strings[:,3]).shape[0]+1))\n",
    "#shape[0]+1 means till the num of elements in that column here 36\n",
    "dict_sub_grade=dict(zip(keys,values))"
   ]
  },
  {
   "cell_type": "code",
   "execution_count": 50,
   "id": "7b6e53ac",
   "metadata": {},
   "outputs": [
    {
     "data": {
      "text/plain": [
       "{'A1': 1,\n",
       " 'A2': 2,\n",
       " 'A3': 3,\n",
       " 'A4': 4,\n",
       " 'A5': 5,\n",
       " 'B1': 6,\n",
       " 'B2': 7,\n",
       " 'B3': 8,\n",
       " 'B4': 9,\n",
       " 'B5': 10,\n",
       " 'C1': 11,\n",
       " 'C2': 12,\n",
       " 'C3': 13,\n",
       " 'C4': 14,\n",
       " 'C5': 15,\n",
       " 'D1': 16,\n",
       " 'D2': 17,\n",
       " 'D3': 18,\n",
       " 'D4': 19,\n",
       " 'D5': 20,\n",
       " 'E1': 21,\n",
       " 'E2': 22,\n",
       " 'E3': 23,\n",
       " 'E4': 24,\n",
       " 'E5': 25,\n",
       " 'F1': 26,\n",
       " 'F2': 27,\n",
       " 'F3': 28,\n",
       " 'F4': 29,\n",
       " 'F5': 30,\n",
       " 'G1': 31,\n",
       " 'G2': 32,\n",
       " 'G3': 33,\n",
       " 'G4': 34,\n",
       " 'G5': 35,\n",
       " 'H1': 36}"
      ]
     },
     "execution_count": 50,
     "metadata": {},
     "output_type": "execute_result"
    }
   ],
   "source": [
    "dict_sub_grade"
   ]
  },
  {
   "cell_type": "code",
   "execution_count": 51,
   "id": "121cc03c",
   "metadata": {},
   "outputs": [],
   "source": [
    "for i in np.unique(raw_data_strings[:,3]):\n",
    "    raw_data_strings[:,3]=np.where(raw_data_strings[:,3]==i,\n",
    "                                  dict_sub_grade[i],\n",
    "                                 raw_data_strings[:,3] )"
   ]
  },
  {
   "cell_type": "code",
   "execution_count": 52,
   "id": "6c85ffb5",
   "metadata": {},
   "outputs": [
    {
     "data": {
      "text/plain": [
       "array(['1', '10', '11', '12', '13', '14', '15', '16', '17', '18', '19', '2', '20', '21', '22',\n",
       "       '23', '24', '25', '26', '27', '28', '29', '3', '30', '31', '32', '33', '34', '35', '36',\n",
       "       '4', '5', '6', '7', '8', '9'], dtype='<U69')"
      ]
     },
     "execution_count": 52,
     "metadata": {},
     "output_type": "execute_result"
    }
   ],
   "source": [
    "np.unique(raw_data_strings[:,3])"
   ]
  },
  {
   "cell_type": "markdown",
   "id": "871d04f6",
   "metadata": {},
   "source": [
    "# verification"
   ]
  },
  {
   "cell_type": "code",
   "execution_count": 53,
   "id": "502ae2dc",
   "metadata": {},
   "outputs": [
    {
     "data": {
      "text/plain": [
       "array(['Verified', 'Source Verified', 'Verified', ..., 'Source Verified', 'Source Verified', ''],\n",
       "      dtype='<U69')"
      ]
     },
     "execution_count": 53,
     "metadata": {},
     "output_type": "execute_result"
    }
   ],
   "source": [
    "raw_data_strings[:,4]"
   ]
  },
  {
   "cell_type": "code",
   "execution_count": 54,
   "id": "da333800",
   "metadata": {},
   "outputs": [
    {
     "data": {
      "text/plain": [
       "'verification_status'"
      ]
     },
     "execution_count": 54,
     "metadata": {},
     "output_type": "execute_result"
    }
   ],
   "source": [
    "header_text[4]"
   ]
  },
  {
   "cell_type": "code",
   "execution_count": 55,
   "id": "9fcae8c2",
   "metadata": {},
   "outputs": [
    {
     "data": {
      "text/plain": [
       "array(['', 'Not Verified', 'Source Verified', 'Verified'], dtype='<U69')"
      ]
     },
     "execution_count": 55,
     "metadata": {},
     "output_type": "execute_result"
    }
   ],
   "source": [
    "np.unique(raw_data_strings[:,4])"
   ]
  },
  {
   "cell_type": "code",
   "execution_count": 57,
   "id": "6d07e162",
   "metadata": {},
   "outputs": [],
   "source": [
    "\n",
    "raw_data_strings[:,4]=np.where((raw_data_strings[:,4]=='')|(raw_data_strings[:,4]==\"Not Verified\"),\n",
    "                              0,\n",
    "                              1)\n"
   ]
  },
  {
   "cell_type": "code",
   "execution_count": 58,
   "id": "e3a96909",
   "metadata": {},
   "outputs": [
    {
     "data": {
      "text/plain": [
       "array(['1', '1', '1', ..., '1', '1', '1'], dtype='<U69')"
      ]
     },
     "execution_count": 58,
     "metadata": {},
     "output_type": "execute_result"
    }
   ],
   "source": [
    "raw_data_strings[:,4]"
   ]
  },
  {
   "cell_type": "markdown",
   "id": "b7c6afd2",
   "metadata": {},
   "source": [
    "# url"
   ]
  },
  {
   "cell_type": "code",
   "execution_count": 59,
   "id": "d3cad7f1",
   "metadata": {},
   "outputs": [
    {
     "data": {
      "text/plain": [
       "array(['https://www.lendingclub.com/browse/loanDetail.action?loan_id=48010226',\n",
       "       'https://www.lendingclub.com/browse/loanDetail.action?loan_id=57693261',\n",
       "       'https://www.lendingclub.com/browse/loanDetail.action?loan_id=59432726', ...,\n",
       "       'https://www.lendingclub.com/browse/loanDetail.action?loan_id=50415990',\n",
       "       'https://www.lendingclub.com/browse/loanDetail.action?loan_id=46154151',\n",
       "       'https://www.lendingclub.com/browse/loanDetail.action?loan_id=66055249'], dtype='<U69')"
      ]
     },
     "execution_count": 59,
     "metadata": {},
     "output_type": "execute_result"
    }
   ],
   "source": [
    "raw_data_strings[:,5]"
   ]
  },
  {
   "cell_type": "code",
   "execution_count": 60,
   "id": "2ca72bbe",
   "metadata": {},
   "outputs": [
    {
     "data": {
      "text/plain": [
       "'url'"
      ]
     },
     "execution_count": 60,
     "metadata": {},
     "output_type": "execute_result"
    }
   ],
   "source": [
    "header_text[5]"
   ]
  },
  {
   "cell_type": "code",
   "execution_count": 61,
   "id": "f9a2377f",
   "metadata": {},
   "outputs": [
    {
     "data": {
      "text/plain": [
       "chararray(['48010226', '57693261', '59432726', ..., '50415990', '46154151', '66055249'],\n",
       "          dtype='<U69')"
      ]
     },
     "execution_count": 61,
     "metadata": {},
     "output_type": "execute_result"
    }
   ],
   "source": [
    "np.chararray.strip(raw_data_strings[:,5],'https://www.lendingclub.com/browse/loanDetail.action?loan_id=')"
   ]
  },
  {
   "cell_type": "code",
   "execution_count": 62,
   "id": "742c75cf",
   "metadata": {},
   "outputs": [
    {
     "data": {
      "text/plain": [
       "array([48010226., 57693261., 59432726., ..., 50415990., 46154151., 66055249.])"
      ]
     },
     "execution_count": 62,
     "metadata": {},
     "output_type": "execute_result"
    }
   ],
   "source": [
    "raw_data_numeric[:,0]"
   ]
  },
  {
   "cell_type": "code",
   "execution_count": 63,
   "id": "f3293712",
   "metadata": {},
   "outputs": [],
   "source": [
    "raw_data_strings=np.delete(raw_data_strings,5,axis=1)\n",
    "header_text=np.delete(header_text,5)"
   ]
  },
  {
   "cell_type": "code",
   "execution_count": 64,
   "id": "bf653500",
   "metadata": {},
   "outputs": [
    {
     "data": {
      "text/plain": [
       "array(['issue_date', 'loan_status', 'term months', 'sub_grade', 'verification_status',\n",
       "       'addr_state'], dtype='<U19')"
      ]
     },
     "execution_count": 64,
     "metadata": {},
     "output_type": "execute_result"
    }
   ],
   "source": [
    "header_text"
   ]
  },
  {
   "cell_type": "code",
   "execution_count": 65,
   "id": "53ffd573",
   "metadata": {},
   "outputs": [
    {
     "data": {
      "text/plain": [
       "array(['CA', 'NY', 'PA', ..., 'CA', 'OH', 'IL'], dtype='<U69')"
      ]
     },
     "execution_count": 65,
     "metadata": {},
     "output_type": "execute_result"
    }
   ],
   "source": [
    "raw_data_strings[:,5]"
   ]
  },
  {
   "cell_type": "markdown",
   "id": "89549867",
   "metadata": {},
   "source": [
    "# State address"
   ]
  },
  {
   "cell_type": "code",
   "execution_count": 66,
   "id": "46947d61",
   "metadata": {},
   "outputs": [
    {
     "data": {
      "text/plain": [
       "array(['issue_date', 'loan_status', 'term months', 'sub_grade', 'verification_status',\n",
       "       'addr_state'], dtype='<U19')"
      ]
     },
     "execution_count": 66,
     "metadata": {},
     "output_type": "execute_result"
    }
   ],
   "source": [
    "header_text"
   ]
  },
  {
   "cell_type": "code",
   "execution_count": 67,
   "id": "80a81a03",
   "metadata": {},
   "outputs": [
    {
     "data": {
      "text/plain": [
       "'addr_state'"
      ]
     },
     "execution_count": 67,
     "metadata": {},
     "output_type": "execute_result"
    }
   ],
   "source": [
    "header_text[5]"
   ]
  },
  {
   "cell_type": "code",
   "execution_count": 68,
   "id": "ee1b4b5f",
   "metadata": {},
   "outputs": [
    {
     "data": {
      "text/plain": [
       "array(['CA', 'NY', 'PA', ..., 'CA', 'OH', 'IL'], dtype='<U69')"
      ]
     },
     "execution_count": 68,
     "metadata": {},
     "output_type": "execute_result"
    }
   ],
   "source": [
    "raw_data_strings[:,5]"
   ]
  },
  {
   "cell_type": "code",
   "execution_count": 69,
   "id": "4b92989c",
   "metadata": {},
   "outputs": [
    {
     "data": {
      "text/plain": [
       "array(['', 'AK', 'AL', 'AR', 'AZ', 'CA', 'CO', 'CT', 'DC', 'DE', 'FL', 'GA', 'HI', 'IL', 'IN',\n",
       "       'KS', 'KY', 'LA', 'MA', 'MD', 'ME', 'MI', 'MN', 'MO', 'MS', 'MT', 'NC', 'ND', 'NE', 'NH',\n",
       "       'NJ', 'NM', 'NV', 'NY', 'OH', 'OK', 'OR', 'PA', 'RI', 'SC', 'SD', 'TN', 'TX', 'UT', 'VA',\n",
       "       'VT', 'WA', 'WI', 'WV', 'WY'], dtype='<U69')"
      ]
     },
     "execution_count": 69,
     "metadata": {},
     "output_type": "execute_result"
    }
   ],
   "source": [
    "np.unique(raw_data_strings[:,5])"
   ]
  },
  {
   "cell_type": "code",
   "execution_count": 70,
   "id": "477e19a4",
   "metadata": {},
   "outputs": [],
   "source": [
    "header_text[5]=\"state address\""
   ]
  },
  {
   "cell_type": "code",
   "execution_count": 71,
   "id": "888d5b6e",
   "metadata": {},
   "outputs": [
    {
     "data": {
      "text/plain": [
       "array(['CA', 'NY', 'PA', ..., 'CA', 'OH', 'IL'], dtype='<U69')"
      ]
     },
     "execution_count": 71,
     "metadata": {},
     "output_type": "execute_result"
    }
   ],
   "source": [
    "raw_data_strings[:,5]=np.where(raw_data_strings[:,5]=='',\n",
    "                              0,\n",
    "                              raw_data_strings[:,5])\n",
    "raw_data_strings[:,5]"
   ]
  },
  {
   "cell_type": "code",
   "execution_count": 72,
   "id": "9a31181c",
   "metadata": {},
   "outputs": [],
   "source": [
    "states_west = np.array(['WA', 'OR','CA','NV','ID','MT', 'WY','UT','CO', 'AZ','NM','HI','AK'])\n",
    "states_south = np.array(['TX','OK','AR','LA','MS','AL','TN','KY','FL','GA','SC','NC','VA','WV','MD','DE','DC'])\n",
    "states_midwest = np.array(['ND','SD','NE','KS','MN','IA','MO','WI','IL','IN','MI','OH'])\n",
    "states_east = np.array(['PA','NY','NJ','CT','MA','VT','NH','ME','RI'])"
   ]
  },
  {
   "cell_type": "code",
   "execution_count": 73,
   "id": "ffc5986e",
   "metadata": {},
   "outputs": [],
   "source": [
    "raw_data_strings[:,5]=np.where(np.isin(raw_data_strings[:,5],states_west),1,raw_data_strings[:,5])\n",
    "raw_data_strings[:,5]=np.where(np.isin(raw_data_strings[:,5],states_south),2,raw_data_strings[:,5])\n",
    "raw_data_strings[:,5]=np.where(np.isin(raw_data_strings[:,5],states_midwest),3,raw_data_strings[:,5])\n",
    "raw_data_strings[:,5]=np.where(np.isin(raw_data_strings[:,5],states_east),4,raw_data_strings[:,5])\n",
    "  "
   ]
  },
  {
   "cell_type": "code",
   "execution_count": 74,
   "id": "507f44b7",
   "metadata": {},
   "outputs": [
    {
     "data": {
      "text/plain": [
       "array(['0', '1', '2', '3', '4'], dtype='<U69')"
      ]
     },
     "execution_count": 74,
     "metadata": {},
     "output_type": "execute_result"
    }
   ],
   "source": [
    "np.unique(raw_data_strings[:,5])"
   ]
  },
  {
   "cell_type": "code",
   "execution_count": 75,
   "id": "507e1368",
   "metadata": {},
   "outputs": [
    {
     "data": {
      "text/plain": [
       "array([['5', '1', '36', '13', '1', '1'],\n",
       "       ['0', '1', '36', '5', '1', '4'],\n",
       "       ['9', '1', '36', '10', '1', '4'],\n",
       "       ...,\n",
       "       ['6', '1', '36', '5', '1', '1'],\n",
       "       ['4', '1', '36', '17', '1', '3'],\n",
       "       ['12', '1', '36', '4', '1', '3']], dtype='<U69')"
      ]
     },
     "execution_count": 75,
     "metadata": {},
     "output_type": "execute_result"
    }
   ],
   "source": [
    "raw_data_strings"
   ]
  },
  {
   "cell_type": "code",
   "execution_count": 76,
   "id": "3556b14a",
   "metadata": {},
   "outputs": [],
   "source": [
    "raw_data_strings=raw_data_strings.astype(int)"
   ]
  },
  {
   "cell_type": "code",
   "execution_count": 77,
   "id": "8a01aed7",
   "metadata": {},
   "outputs": [
    {
     "data": {
      "text/plain": [
       "array([[ 5,  1, 36, 13,  1,  1],\n",
       "       [ 0,  1, 36,  5,  1,  4],\n",
       "       [ 9,  1, 36, 10,  1,  4],\n",
       "       ...,\n",
       "       [ 6,  1, 36,  5,  1,  1],\n",
       "       [ 4,  1, 36, 17,  1,  3],\n",
       "       [12,  1, 36,  4,  1,  3]])"
      ]
     },
     "execution_count": 77,
     "metadata": {},
     "output_type": "execute_result"
    }
   ],
   "source": [
    "raw_data_strings"
   ]
  },
  {
   "cell_type": "code",
   "execution_count": 78,
   "id": "36adbc9d",
   "metadata": {},
   "outputs": [],
   "source": [
    "checkpoint_string=checkpoint(\"Checkpoint-strings\",header_text,raw_data_strings)"
   ]
  },
  {
   "cell_type": "code",
   "execution_count": 79,
   "id": "c296dea6",
   "metadata": {},
   "outputs": [
    {
     "data": {
      "text/plain": [
       "array(['issue_date', 'loan_status', 'term months', 'sub_grade', 'verification_status',\n",
       "       'state address'], dtype='<U19')"
      ]
     },
     "execution_count": 79,
     "metadata": {},
     "output_type": "execute_result"
    }
   ],
   "source": [
    "checkpoint_string[\"header\"]"
   ]
  },
  {
   "cell_type": "markdown",
   "id": "f1aee1bf",
   "metadata": {},
   "source": [
    "# manupulating numeric columns"
   ]
  },
  {
   "cell_type": "code",
   "execution_count": 80,
   "id": "98f98a60",
   "metadata": {},
   "outputs": [
    {
     "data": {
      "text/plain": [
       "array([[48010226.  ,    35000.  ,    35000.  ,       13.33,     1184.86,     9452.96],\n",
       "       [57693261.  ,    30000.  ,    30000.  , 68616520.  ,      938.57,     4679.7 ],\n",
       "       [59432726.  ,    15000.  ,    15000.  , 68616520.  ,      494.86,     1969.83],\n",
       "       ...,\n",
       "       [50415990.  ,    10000.  ,    10000.  , 68616520.  , 68616520.  ,     2185.64],\n",
       "       [46154151.  , 68616520.  ,    10000.  ,       16.55,      354.3 ,     3199.4 ],\n",
       "       [66055249.  ,    10000.  ,    10000.  , 68616520.  ,      309.97,      301.9 ]])"
      ]
     },
     "execution_count": 80,
     "metadata": {},
     "output_type": "execute_result"
    }
   ],
   "source": [
    "raw_data_numeric"
   ]
  },
  {
   "cell_type": "code",
   "execution_count": 81,
   "id": "82a532e5",
   "metadata": {},
   "outputs": [
    {
     "data": {
      "text/plain": [
       "0"
      ]
     },
     "execution_count": 81,
     "metadata": {},
     "output_type": "execute_result"
    }
   ],
   "source": [
    "np.isnan(raw_data_numeric).sum()"
   ]
  },
  {
   "cell_type": "code",
   "execution_count": 82,
   "id": "8c33462a",
   "metadata": {},
   "outputs": [
    {
     "data": {
      "text/plain": [
       "array(['id', 'loan_amnt', 'funded_amnt', 'int_rate', 'installment', 'total_pymnt'], dtype='<U19')"
      ]
     },
     "execution_count": 82,
     "metadata": {},
     "output_type": "execute_result"
    }
   ],
   "source": [
    "header_num"
   ]
  },
  {
   "cell_type": "code",
   "execution_count": 83,
   "id": "81726afb",
   "metadata": {},
   "outputs": [
    {
     "data": {
      "text/plain": [
       "68616520.0"
      ]
     },
     "execution_count": 83,
     "metadata": {},
     "output_type": "execute_result"
    }
   ],
   "source": [
    "temp"
   ]
  },
  {
   "cell_type": "code",
   "execution_count": 84,
   "id": "6a0104ba",
   "metadata": {},
   "outputs": [
    {
     "data": {
      "text/plain": [
       "array([False, False, False, ..., False, False, False])"
      ]
     },
     "execution_count": 84,
     "metadata": {},
     "output_type": "execute_result"
    }
   ],
   "source": [
    "np.isin(raw_data_numeric[:,0],temp)"
   ]
  },
  {
   "cell_type": "code",
   "execution_count": 85,
   "id": "b98fffc4",
   "metadata": {},
   "outputs": [
    {
     "data": {
      "text/plain": [
       "0"
      ]
     },
     "execution_count": 85,
     "metadata": {},
     "output_type": "execute_result"
    }
   ],
   "source": [
    "np.isin(raw_data_numeric[:,0],temp).sum()"
   ]
  },
  {
   "cell_type": "code",
   "execution_count": 86,
   "id": "f861df53",
   "metadata": {},
   "outputs": [
    {
     "data": {
      "text/plain": [
       "array(['id', 'loan_amnt', 'funded_amnt', 'int_rate', 'installment', 'total_pymnt'], dtype='<U19')"
      ]
     },
     "execution_count": 86,
     "metadata": {},
     "output_type": "execute_result"
    }
   ],
   "source": [
    "header_num"
   ]
  },
  {
   "cell_type": "code",
   "execution_count": 87,
   "id": "93a6100f",
   "metadata": {},
   "outputs": [
    {
     "data": {
      "text/plain": [
       "array([[  373332.  ,     1000.  ,     1000.  ,        6.  ,       31.42,        0.  ],\n",
       "       [54015809.19,    15273.46,    15311.04,       16.62,      440.92,     3143.85],\n",
       "       [68616519.  ,    35000.  ,    35000.  ,       28.99,     1372.97,    41913.62]])"
      ]
     },
     "execution_count": 87,
     "metadata": {},
     "output_type": "execute_result"
    }
   ],
   "source": [
    "temp_stats[:,columns_numeric]"
   ]
  },
  {
   "cell_type": "markdown",
   "id": "fdc935d8",
   "metadata": {},
   "source": [
    "# funded amount"
   ]
  },
  {
   "cell_type": "code",
   "execution_count": 88,
   "id": "d4913b10",
   "metadata": {},
   "outputs": [
    {
     "data": {
      "text/plain": [
       "array([35000., 30000., 15000., ..., 10000., 10000., 10000.])"
      ]
     },
     "execution_count": 88,
     "metadata": {},
     "output_type": "execute_result"
    }
   ],
   "source": [
    "raw_data_numeric[:,2]"
   ]
  },
  {
   "cell_type": "code",
   "execution_count": 89,
   "id": "6f519a27",
   "metadata": {},
   "outputs": [
    {
     "data": {
      "text/plain": [
       "array([35000., 30000., 15000., ..., 10000., 10000., 10000.])"
      ]
     },
     "execution_count": 89,
     "metadata": {},
     "output_type": "execute_result"
    }
   ],
   "source": [
    "raw_data_numeric[:,2]=np.where(raw_data_numeric[:,2]==temp,\n",
    "                              temp_stats[0,columns_numeric[2]],\n",
    "                              raw_data_numeric[:,2])\n",
    "raw_data_numeric[:,2]"
   ]
  },
  {
   "cell_type": "markdown",
   "id": "41adb8ce",
   "metadata": {},
   "source": [
    "# loan amt,interest rate,total payment,install rate"
   ]
  },
  {
   "cell_type": "code",
   "execution_count": 90,
   "id": "c1aaa455",
   "metadata": {},
   "outputs": [
    {
     "data": {
      "text/plain": [
       "array(['id', 'loan_amnt', 'funded_amnt', 'int_rate', 'installment', 'total_pymnt'], dtype='<U19')"
      ]
     },
     "execution_count": 90,
     "metadata": {},
     "output_type": "execute_result"
    }
   ],
   "source": [
    "header_num"
   ]
  },
  {
   "cell_type": "code",
   "execution_count": 91,
   "id": "12b3cecb",
   "metadata": {},
   "outputs": [
    {
     "data": {
      "text/plain": [
       "array([[48010226.  ,    35000.  ,    35000.  ,       13.33,     1184.86,     9452.96],\n",
       "       [57693261.  ,    30000.  ,    30000.  ,       28.99,      938.57,     4679.7 ],\n",
       "       [59432726.  ,    15000.  ,    15000.  ,       28.99,      494.86,     1969.83],\n",
       "       ...,\n",
       "       [50415990.  ,    10000.  ,    10000.  ,       28.99,     1372.97,     2185.64],\n",
       "       [46154151.  ,    35000.  ,    10000.  ,       16.55,      354.3 ,     3199.4 ],\n",
       "       [66055249.  ,    10000.  ,    10000.  ,       28.99,      309.97,      301.9 ]])"
      ]
     },
     "execution_count": 91,
     "metadata": {},
     "output_type": "execute_result"
    }
   ],
   "source": [
    "for i in [1,3,4,5]:\n",
    "    raw_data_numeric[:,i]=np.where(raw_data_numeric[:,i]==temp,\n",
    "                              temp_stats[2,columns_numeric[i]],\n",
    "                              raw_data_numeric[:,i])\n",
    "raw_data_numeric"
   ]
  },
  {
   "cell_type": "markdown",
   "id": "68a7480d",
   "metadata": {},
   "source": [
    "# exchange rate"
   ]
  },
  {
   "cell_type": "code",
   "execution_count": 92,
   "id": "5f627b77",
   "metadata": {},
   "outputs": [
    {
     "data": {
      "text/plain": [
       "array([['Open', 'High', 'Low', 'Close', 'Volume'],\n",
       "       ['1.2098628282546997', '1.2098628282546997', '1.11055588722229', '1.1287955045700073', '0'],\n",
       "       ['1.1287955045700073', '1.1484194993972778', '1.117680549621582', '1.1205360889434814',\n",
       "        '0'],\n",
       "       ['1.119795799255371', '1.1240400075912476', '1.0460032224655151', '1.0830246210098267',\n",
       "        '0'],\n",
       "       ['1.0741022825241089', '1.1247594356536865', '1.0521597862243652', '1.1114321947097778',\n",
       "        '0'],\n",
       "       ['1.1215037107467651', '1.145304799079895', '1.0821995735168457', '1.0960345268249512',\n",
       "        '0'],\n",
       "       ['1.095902442932129', '1.1428401470184326', '1.0888904333114624', '1.122296690940857', '0'],\n",
       "       ['1.1134989261627197', '1.1219995021820068', '1.081270456314087', '1.0939244031906128',\n",
       "        '0'],\n",
       "       ['1.0969001054763794', '1.1705996990203857', '1.0850305557250977', '1.1340054273605347',\n",
       "        '0'],\n",
       "       ['1.1225990056991577', '1.1460003852844238', '1.1089695692062378', '1.1255937814712524',\n",
       "        '0'],\n",
       "       ['1.1171561479568481', '1.1494200229644775', '1.0910003185272217', '1.100897192955017',\n",
       "        '0'],\n",
       "       ['1.1024993658065796', '1.1060001850128174', '1.056400179862976', '1.0583018064498901',\n",
       "        '0'],\n",
       "       ['1.0572947263717651', '1.107000470161438', '1.0541995763778687', '1.093398094177246', '0']],\n",
       "      dtype='<U18')"
      ]
     },
     "execution_count": 92,
     "metadata": {},
     "output_type": "execute_result"
    }
   ],
   "source": [
    "EUR_USD = np.genfromtxt(\"C:\\\\Users\\\\R S SUNEEL KRISHNA\\\\Downloads\\\\S28 - A Loan Data Example with NumPy\\\\EUR-USD.csv\", delimiter=',', autostrip=True,dtype=str)\n",
    "EUR_USD"
   ]
  },
  {
   "cell_type": "code",
   "execution_count": 93,
   "id": "d88da7ac",
   "metadata": {},
   "outputs": [
    {
     "name": "stdout",
     "output_type": "stream",
     "text": [
      "[1.13 1.12 1.08 1.11 1.1  1.12 1.09 1.13 1.13 1.1  1.06 1.09]\n"
     ]
    }
   ],
   "source": [
    "import numpy as np\n",
    "\n",
    "EUR_USD = np.genfromtxt(\n",
    "    \"C:\\\\Users\\\\R S SUNEEL KRISHNA\\\\Downloads\\\\S28 - A Loan Data Example with NumPy\\\\EUR-USD.csv\",\n",
    "    delimiter=',',\n",
    "    autostrip=True,\n",
    "    dtype=float,  # Assuming you want to read numerical values\n",
    "    skip_header=1,\n",
    "    usecols=3\n",
    ")\n",
    "\n",
    "# Now, round the values to 2 decimal places\n",
    "EUR_USD = np.round(EUR_USD, 2)\n",
    "\n",
    "print(EUR_USD)\n"
   ]
  },
  {
   "cell_type": "code",
   "execution_count": 94,
   "id": "49d8117e",
   "metadata": {},
   "outputs": [
    {
     "data": {
      "text/plain": [
       "array([[ 5,  1, 36, 13,  1,  1],\n",
       "       [ 0,  1, 36,  5,  1,  4],\n",
       "       [ 9,  1, 36, 10,  1,  4],\n",
       "       ...,\n",
       "       [ 6,  1, 36,  5,  1,  1],\n",
       "       [ 4,  1, 36, 17,  1,  3],\n",
       "       [12,  1, 36,  4,  1,  3]])"
      ]
     },
     "execution_count": 94,
     "metadata": {},
     "output_type": "execute_result"
    }
   ],
   "source": [
    "raw_data_strings"
   ]
  },
  {
   "cell_type": "code",
   "execution_count": 95,
   "id": "441ed99a",
   "metadata": {},
   "outputs": [
    {
     "data": {
      "text/plain": [
       "array([ 5,  0,  9, ...,  6,  4, 12])"
      ]
     },
     "execution_count": 95,
     "metadata": {},
     "output_type": "execute_result"
    }
   ],
   "source": [
    "raw_data_strings[:,0]"
   ]
  },
  {
   "cell_type": "code",
   "execution_count": 96,
   "id": "e6efbc32",
   "metadata": {},
   "outputs": [
    {
     "data": {
      "text/plain": [
       "array([1.1 , 1.1 , 1.13, ..., 1.12, 1.11, 1.09])"
      ]
     },
     "execution_count": 96,
     "metadata": {},
     "output_type": "execute_result"
    }
   ],
   "source": [
    "exchange_rate=raw_data_strings[:,0]\n",
    "\n",
    "for i in range(1,13):\n",
    "    \n",
    "    exchange_rate=np.where(exchange_rate==i,\n",
    "                            EUR_USD[i-1],\n",
    "                            exchange_rate\n",
    "                           )\n",
    "exchange_rate = np.where(exchange_rate == 0,\n",
    "                         np.mean(EUR_USD),\n",
    "                         exchange_rate)\n",
    "exchange_rate\n",
    "    "
   ]
  },
  {
   "cell_type": "code",
   "execution_count": 97,
   "id": "31c77931",
   "metadata": {},
   "outputs": [
    {
     "data": {
      "text/plain": [
       "(10000,)"
      ]
     },
     "execution_count": 97,
     "metadata": {},
     "output_type": "execute_result"
    }
   ],
   "source": [
    "exchange_rate.shape"
   ]
  },
  {
   "cell_type": "code",
   "execution_count": 98,
   "id": "d0e3f460",
   "metadata": {},
   "outputs": [
    {
     "data": {
      "text/plain": [
       "(10000, 6)"
      ]
     },
     "execution_count": 98,
     "metadata": {},
     "output_type": "execute_result"
    }
   ],
   "source": [
    "raw_data_numeric.shape"
   ]
  },
  {
   "cell_type": "code",
   "execution_count": 99,
   "id": "04f15617",
   "metadata": {},
   "outputs": [],
   "source": [
    "exchange_rate=np.reshape(exchange_rate,(10000,1))"
   ]
  },
  {
   "cell_type": "code",
   "execution_count": 100,
   "id": "86d7e358",
   "metadata": {},
   "outputs": [
    {
     "data": {
      "text/plain": [
       "array([[48010226.  ,    35000.  ,    35000.  , ...,     1184.86,     9452.96,        1.1 ],\n",
       "       [57693261.  ,    30000.  ,    30000.  , ...,      938.57,     4679.7 ,        1.1 ],\n",
       "       [59432726.  ,    15000.  ,    15000.  , ...,      494.86,     1969.83,        1.13],\n",
       "       ...,\n",
       "       [50415990.  ,    10000.  ,    10000.  , ...,     1372.97,     2185.64,        1.12],\n",
       "       [46154151.  ,    35000.  ,    10000.  , ...,      354.3 ,     3199.4 ,        1.11],\n",
       "       [66055249.  ,    10000.  ,    10000.  , ...,      309.97,      301.9 ,        1.09]])"
      ]
     },
     "execution_count": 100,
     "metadata": {},
     "output_type": "execute_result"
    }
   ],
   "source": [
    "np.hstack((raw_data_numeric,exchange_rate))"
   ]
  },
  {
   "cell_type": "code",
   "execution_count": 101,
   "id": "37a097db",
   "metadata": {},
   "outputs": [],
   "source": [
    "raw_data_numeric=np.hstack((raw_data_numeric,exchange_rate))"
   ]
  },
  {
   "cell_type": "code",
   "execution_count": 102,
   "id": "1c32d54c",
   "metadata": {},
   "outputs": [
    {
     "data": {
      "text/plain": [
       "array(['id', 'loan_amnt', 'funded_amnt', 'int_rate', 'installment', 'total_pymnt', 'exchange_rate'],\n",
       "      dtype='<U19')"
      ]
     },
     "execution_count": 102,
     "metadata": {},
     "output_type": "execute_result"
    }
   ],
   "source": [
    "header_num=np.concatenate((header_num,np.array([\"exchange_rate\"])))\n",
    "header_num"
   ]
  },
  {
   "cell_type": "markdown",
   "id": "8df08388",
   "metadata": {},
   "source": [
    "# converting from USD to EUR"
   ]
  },
  {
   "cell_type": "code",
   "execution_count": 103,
   "id": "ddcac06a",
   "metadata": {},
   "outputs": [],
   "source": [
    "columns_dollar=np.array([1,2,4,5])"
   ]
  },
  {
   "cell_type": "code",
   "execution_count": 104,
   "id": "471b4afd",
   "metadata": {},
   "outputs": [
    {
     "data": {
      "text/plain": [
       "array([[[35000.  , 35000.  ,  1184.86,  9452.96]],\n",
       "\n",
       "       [[30000.  , 30000.  ,   938.57,  4679.7 ]],\n",
       "\n",
       "       [[15000.  , 15000.  ,   494.86,  1969.83]],\n",
       "\n",
       "       ...,\n",
       "\n",
       "       [[10000.  , 10000.  ,  1372.97,  2185.64]],\n",
       "\n",
       "       [[35000.  , 10000.  ,   354.3 ,  3199.4 ]],\n",
       "\n",
       "       [[10000.  , 10000.  ,   309.97,   301.9 ]]])"
      ]
     },
     "execution_count": 104,
     "metadata": {},
     "output_type": "execute_result"
    }
   ],
   "source": [
    "raw_data_numeric[:,[columns_dollar]]"
   ]
  },
  {
   "cell_type": "code",
   "execution_count": 105,
   "id": "bd285460",
   "metadata": {},
   "outputs": [
    {
     "data": {
      "text/plain": [
       "array([1.1 , 1.1 , 1.13, ..., 1.12, 1.11, 1.09])"
      ]
     },
     "execution_count": 105,
     "metadata": {},
     "output_type": "execute_result"
    }
   ],
   "source": [
    "raw_data_numeric[:,6]"
   ]
  },
  {
   "cell_type": "code",
   "execution_count": 106,
   "id": "f12fd712",
   "metadata": {},
   "outputs": [],
   "source": [
    "  for i in columns_dollar:\n",
    "        raw_data_numeric=np.hstack((raw_data_numeric,np.reshape(raw_data_numeric[:,i]/raw_data_numeric[:,6],(10000,1))))"
   ]
  },
  {
   "cell_type": "code",
   "execution_count": 107,
   "id": "d77c7e29",
   "metadata": {},
   "outputs": [
    {
     "data": {
      "text/plain": [
       "array([[48010226.  ,    35000.  ,    35000.  , ...,    31818.18,     1077.15,     8593.6 ],\n",
       "       [57693261.  ,    30000.  ,    30000.  , ...,    27149.32,      849.38,     4235.02],\n",
       "       [59432726.  ,    15000.  ,    15000.  , ...,    13274.34,      437.93,     1743.21],\n",
       "       ...,\n",
       "       [50415990.  ,    10000.  ,    10000.  , ...,     8928.57,     1225.87,     1951.46],\n",
       "       [46154151.  ,    35000.  ,    10000.  , ...,     9009.01,      319.19,     2882.34],\n",
       "       [66055249.  ,    10000.  ,    10000.  , ...,     9174.31,      284.38,      276.97]])"
      ]
     },
     "execution_count": 107,
     "metadata": {},
     "output_type": "execute_result"
    }
   ],
   "source": [
    "raw_data_numeric"
   ]
  },
  {
   "cell_type": "markdown",
   "id": "74f980af",
   "metadata": {},
   "source": [
    "# Expanding the header"
   ]
  },
  {
   "cell_type": "code",
   "execution_count": 108,
   "id": "814f08ec",
   "metadata": {},
   "outputs": [],
   "source": [
    "header_add = np.array([column_name + \"_EUR\" for column_name in header_num[columns_dollar]])\n"
   ]
  },
  {
   "cell_type": "code",
   "execution_count": 109,
   "id": "9f9b4f05",
   "metadata": {},
   "outputs": [
    {
     "data": {
      "text/plain": [
       "array(['loan_amnt_EUR', 'funded_amnt_EUR', 'installment_EUR', 'total_pymnt_EUR'], dtype='<U15')"
      ]
     },
     "execution_count": 109,
     "metadata": {},
     "output_type": "execute_result"
    }
   ],
   "source": [
    "header_add"
   ]
  },
  {
   "cell_type": "code",
   "execution_count": 110,
   "id": "aa7631fc",
   "metadata": {},
   "outputs": [],
   "source": [
    "header_num=np.concatenate((header_num,header_add))"
   ]
  },
  {
   "cell_type": "code",
   "execution_count": 111,
   "id": "2663b383",
   "metadata": {},
   "outputs": [
    {
     "data": {
      "text/plain": [
       "array(['id', 'loan_amnt', 'funded_amnt', 'int_rate', 'installment', 'total_pymnt', 'exchange_rate',\n",
       "       'loan_amnt_EUR', 'funded_amnt_EUR', 'installment_EUR', 'total_pymnt_EUR'], dtype='<U19')"
      ]
     },
     "execution_count": 111,
     "metadata": {},
     "output_type": "execute_result"
    }
   ],
   "source": [
    "header_num"
   ]
  },
  {
   "cell_type": "code",
   "execution_count": 112,
   "id": "9c585caa",
   "metadata": {},
   "outputs": [],
   "source": [
    "header_num[columns_dollar]=np.array([column_name + \"_USD\" for column_name in header_num[columns_dollar]])"
   ]
  },
  {
   "cell_type": "code",
   "execution_count": 113,
   "id": "102a1c93",
   "metadata": {},
   "outputs": [
    {
     "data": {
      "text/plain": [
       "array(['id', 'loan_amnt_USD', 'funded_amnt_USD', 'int_rate', 'installment_USD', 'total_pymnt_USD',\n",
       "       'exchange_rate', 'loan_amnt_EUR', 'funded_amnt_EUR', 'installment_EUR', 'total_pymnt_EUR'],\n",
       "      dtype='<U19')"
      ]
     },
     "execution_count": 113,
     "metadata": {},
     "output_type": "execute_result"
    }
   ],
   "source": [
    "header_num"
   ]
  },
  {
   "cell_type": "code",
   "execution_count": 116,
   "id": "8ff323b0",
   "metadata": {},
   "outputs": [],
   "source": [
    "column_index_order=[0,1,7,2,8,3,4,9,5,10,6]"
   ]
  },
  {
   "cell_type": "code",
   "execution_count": 117,
   "id": "981d9e24",
   "metadata": {},
   "outputs": [],
   "source": [
    "header_num=header_num[column_index_order]"
   ]
  },
  {
   "cell_type": "code",
   "execution_count": 118,
   "id": "bdaa02ab",
   "metadata": {},
   "outputs": [
    {
     "data": {
      "text/plain": [
       "array([[48010226.  ,    35000.  ,    35000.  , ...,    31818.18,     1077.15,     8593.6 ],\n",
       "       [57693261.  ,    30000.  ,    30000.  , ...,    27149.32,      849.38,     4235.02],\n",
       "       [59432726.  ,    15000.  ,    15000.  , ...,    13274.34,      437.93,     1743.21],\n",
       "       ...,\n",
       "       [50415990.  ,    10000.  ,    10000.  , ...,     8928.57,     1225.87,     1951.46],\n",
       "       [46154151.  ,    35000.  ,    10000.  , ...,     9009.01,      319.19,     2882.34],\n",
       "       [66055249.  ,    10000.  ,    10000.  , ...,     9174.31,      284.38,      276.97]])"
      ]
     },
     "execution_count": 118,
     "metadata": {},
     "output_type": "execute_result"
    }
   ],
   "source": [
    "raw_data_numeric"
   ]
  },
  {
   "cell_type": "code",
   "execution_count": 119,
   "id": "5bde4e68",
   "metadata": {},
   "outputs": [],
   "source": [
    "raw_data_numeric=raw_data_numeric[:,column_index_order]"
   ]
  },
  {
   "cell_type": "code",
   "execution_count": 120,
   "id": "03168f3e",
   "metadata": {},
   "outputs": [
    {
     "data": {
      "text/plain": [
       "array(['id', 'loan_amnt_USD', 'loan_amnt_EUR', 'funded_amnt_USD', 'funded_amnt_EUR', 'int_rate',\n",
       "       'installment_USD', 'installment_EUR', 'total_pymnt_USD', 'total_pymnt_EUR', 'exchange_rate'],\n",
       "      dtype='<U19')"
      ]
     },
     "execution_count": 120,
     "metadata": {},
     "output_type": "execute_result"
    }
   ],
   "source": [
    "header_num"
   ]
  },
  {
   "cell_type": "markdown",
   "id": "2ef8bc9f",
   "metadata": {},
   "source": [
    "# interest rate"
   ]
  },
  {
   "cell_type": "code",
   "execution_count": 121,
   "id": "ee225252",
   "metadata": {},
   "outputs": [
    {
     "data": {
      "text/plain": [
       "array([13.33, 28.99, 28.99, ..., 28.99, 16.55, 28.99])"
      ]
     },
     "execution_count": 121,
     "metadata": {},
     "output_type": "execute_result"
    }
   ],
   "source": [
    "raw_data_numeric[:,5]"
   ]
  },
  {
   "cell_type": "code",
   "execution_count": 122,
   "id": "9fbab82a",
   "metadata": {},
   "outputs": [],
   "source": [
    "raw_data_numeric[:,5]=raw_data_numeric[:,5]/100"
   ]
  },
  {
   "cell_type": "code",
   "execution_count": 123,
   "id": "bd93abf0",
   "metadata": {},
   "outputs": [
    {
     "data": {
      "text/plain": [
       "array([0.13, 0.29, 0.29, ..., 0.29, 0.17, 0.29])"
      ]
     },
     "execution_count": 123,
     "metadata": {},
     "output_type": "execute_result"
    }
   ],
   "source": [
    "raw_data_numeric[:,5]"
   ]
  },
  {
   "cell_type": "markdown",
   "id": "9090a6ce",
   "metadata": {},
   "source": [
    "# checkpoint"
   ]
  },
  {
   "cell_type": "code",
   "execution_count": 124,
   "id": "5181156b",
   "metadata": {},
   "outputs": [],
   "source": [
    "checkpoint_numeric=checkpoint(\"Checkpoint-numeric\",header_num,raw_data_numeric)"
   ]
  },
  {
   "cell_type": "code",
   "execution_count": 125,
   "id": "bfb93957",
   "metadata": {},
   "outputs": [
    {
     "data": {
      "text/plain": [
       "(array(['id', 'loan_amnt_USD', 'loan_amnt_EUR', 'funded_amnt_USD', 'funded_amnt_EUR', 'int_rate',\n",
       "        'installment_USD', 'installment_EUR', 'total_pymnt_USD', 'total_pymnt_EUR', 'exchange_rate'],\n",
       "       dtype='<U19'),\n",
       " array([[48010226.  ,    35000.  ,    31818.18, ...,     9452.96,     8593.6 ,        1.1 ],\n",
       "        [57693261.  ,    30000.  ,    27149.32, ...,     4679.7 ,     4235.02,        1.1 ],\n",
       "        [59432726.  ,    15000.  ,    13274.34, ...,     1969.83,     1743.21,        1.13],\n",
       "        ...,\n",
       "        [50415990.  ,    10000.  ,     8928.57, ...,     2185.64,     1951.46,        1.12],\n",
       "        [46154151.  ,    35000.  ,    31531.53, ...,     3199.4 ,     2882.34,        1.11],\n",
       "        [66055249.  ,    10000.  ,     9174.31, ...,      301.9 ,      276.97,        1.09]]))"
      ]
     },
     "execution_count": 125,
     "metadata": {},
     "output_type": "execute_result"
    }
   ],
   "source": [
    "checkpoint_numeric[\"header\"],checkpoint_numeric[\"data\"]"
   ]
  },
  {
   "cell_type": "markdown",
   "id": "ce220b2e",
   "metadata": {},
   "source": [
    "# creating complete dataset"
   ]
  },
  {
   "cell_type": "code",
   "execution_count": 128,
   "id": "1b7962a5",
   "metadata": {},
   "outputs": [
    {
     "data": {
      "text/plain": [
       "(10000, 6)"
      ]
     },
     "execution_count": 128,
     "metadata": {},
     "output_type": "execute_result"
    }
   ],
   "source": [
    "checkpoint_string['data'].shape"
   ]
  },
  {
   "cell_type": "code",
   "execution_count": 129,
   "id": "57c5f6b7",
   "metadata": {},
   "outputs": [
    {
     "data": {
      "text/plain": [
       "(10000, 11)"
      ]
     },
     "execution_count": 129,
     "metadata": {},
     "output_type": "execute_result"
    }
   ],
   "source": [
    "checkpoint_numeric['data'].shape"
   ]
  },
  {
   "cell_type": "code",
   "execution_count": 130,
   "id": "caca0f8a",
   "metadata": {},
   "outputs": [],
   "source": [
    "loan_data = np.hstack((checkpoint_numeric['data'], checkpoint_string['data']))"
   ]
  },
  {
   "cell_type": "code",
   "execution_count": 131,
   "id": "c6b22c19",
   "metadata": {},
   "outputs": [
    {
     "data": {
      "text/plain": [
       "array([[48010226.  ,    35000.  ,    31818.18, ...,       13.  ,        1.  ,        1.  ],\n",
       "       [57693261.  ,    30000.  ,    27149.32, ...,        5.  ,        1.  ,        4.  ],\n",
       "       [59432726.  ,    15000.  ,    13274.34, ...,       10.  ,        1.  ,        4.  ],\n",
       "       ...,\n",
       "       [50415990.  ,    10000.  ,     8928.57, ...,        5.  ,        1.  ,        1.  ],\n",
       "       [46154151.  ,    35000.  ,    31531.53, ...,       17.  ,        1.  ,        3.  ],\n",
       "       [66055249.  ,    10000.  ,     9174.31, ...,        4.  ,        1.  ,        3.  ]])"
      ]
     },
     "execution_count": 131,
     "metadata": {},
     "output_type": "execute_result"
    }
   ],
   "source": [
    "loan_data\n"
   ]
  },
  {
   "cell_type": "code",
   "execution_count": 132,
   "id": "6308255e",
   "metadata": {},
   "outputs": [
    {
     "data": {
      "text/plain": [
       "0"
      ]
     },
     "execution_count": 132,
     "metadata": {},
     "output_type": "execute_result"
    }
   ],
   "source": [
    "np.isnan(loan_data).sum()"
   ]
  },
  {
   "cell_type": "code",
   "execution_count": 134,
   "id": "9715da5e",
   "metadata": {},
   "outputs": [],
   "source": [
    "header_full = np.concatenate((checkpoint_numeric['header'], checkpoint_string['header']))"
   ]
  },
  {
   "cell_type": "markdown",
   "id": "6e353824",
   "metadata": {},
   "source": [
    "# sorting the dataset"
   ]
  },
  {
   "cell_type": "code",
   "execution_count": 135,
   "id": "544009ff",
   "metadata": {},
   "outputs": [],
   "source": [
    "loan_data = loan_data[np.argsort(loan_data[:,0])]"
   ]
  },
  {
   "cell_type": "code",
   "execution_count": 136,
   "id": "2a115acd",
   "metadata": {},
   "outputs": [
    {
     "data": {
      "text/plain": [
       "array([[  373332.  ,     9950.  ,     9045.45, ...,       21.  ,        1.  ,        1.  ],\n",
       "       [  575239.  ,    12000.  ,    10909.09, ...,       36.  ,        1.  ,        2.  ],\n",
       "       [  707689.  ,    10000.  ,     8928.57, ...,       13.  ,        1.  ,        0.  ],\n",
       "       ...,\n",
       "       [68614880.  ,     5600.  ,     5137.61, ...,        8.  ,        1.  ,        1.  ],\n",
       "       [68615915.  ,     4000.  ,     3669.72, ...,       10.  ,        1.  ,        2.  ],\n",
       "       [68616519.  ,    21600.  ,    19816.51, ...,        3.  ,        1.  ,        2.  ]])"
      ]
     },
     "execution_count": 136,
     "metadata": {},
     "output_type": "execute_result"
    }
   ],
   "source": [
    "loan_data"
   ]
  },
  {
   "cell_type": "code",
   "execution_count": 137,
   "id": "058c42cd",
   "metadata": {},
   "outputs": [
    {
     "data": {
      "text/plain": [
       "array([   0,    1,    2, ..., 9997, 9998, 9999], dtype=int64)"
      ]
     },
     "execution_count": 137,
     "metadata": {},
     "output_type": "execute_result"
    }
   ],
   "source": [
    "np.argsort(loan_data[:,0])"
   ]
  },
  {
   "cell_type": "markdown",
   "id": "70de605f",
   "metadata": {},
   "source": [
    "# storing the dataset"
   ]
  },
  {
   "cell_type": "code",
   "execution_count": 138,
   "id": "2a9efef2",
   "metadata": {},
   "outputs": [],
   "source": [
    "loan_data = np.vstack((header_full, loan_data))"
   ]
  },
  {
   "cell_type": "code",
   "execution_count": 140,
   "id": "17413433",
   "metadata": {},
   "outputs": [],
   "source": [
    "np.savetxt(\"loan-data-preprocessed-final.csv\", \n",
    "           loan_data, \n",
    "           fmt = '%s',\n",
    "           delimiter = ',')"
   ]
  },
  {
   "cell_type": "code",
   "execution_count": null,
   "id": "5396b619",
   "metadata": {},
   "outputs": [],
   "source": []
  }
 ],
 "metadata": {
  "kernelspec": {
   "display_name": "Python 3 (ipykernel)",
   "language": "python",
   "name": "python3"
  },
  "language_info": {
   "codemirror_mode": {
    "name": "ipython",
    "version": 3
   },
   "file_extension": ".py",
   "mimetype": "text/x-python",
   "name": "python",
   "nbconvert_exporter": "python",
   "pygments_lexer": "ipython3",
   "version": "3.11.4"
  }
 },
 "nbformat": 4,
 "nbformat_minor": 5
}
